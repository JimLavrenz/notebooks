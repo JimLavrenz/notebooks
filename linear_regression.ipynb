{
  "nbformat": 4,
  "nbformat_minor": 0,
  "metadata": {
    "kernelspec": {
      "display_name": "Python 3.9.1 64-bit",
      "name": "python391jvsc74a57bd0c7f37f8debd732c055154340e11cbb58ef022c9b70732b14cef199bcf8429ca3"
    },
    "language_info": {
      "name": "python",
      "version": ""
    },
    "colab": {
      "name": "linear-regression.ipynb",
      "provenance": [],
      "include_colab_link": true
    }
  },
  "cells": [
    {
      "cell_type": "markdown",
      "metadata": {
        "id": "view-in-github",
        "colab_type": "text"
      },
      "source": [
        "<a href=\"https://colab.research.google.com/github/JimLavrenz/notebooks/blob/main/linear_regression.ipynb\" target=\"_parent\"><img src=\"https://colab.research.google.com/assets/colab-badge.svg\" alt=\"Open In Colab\"/></a>"
      ]
    },
    {
      "cell_type": "code",
      "metadata": {
        "colab": {
          "base_uri": "https://localhost:8080/",
          "height": 281
        },
        "id": "sBBDsQxxVZ2g",
        "outputId": "98ad3417-8ad3-4a1a-ad07-0983b66c3396"
      },
      "source": [
        "import numpy as np\n",
        "import matplotlib.pyplot as plt\n",
        "from sklearn.datasets import make_regression\n",
        "\n",
        "rng = np.random.RandomState(0)\n",
        "X, y = make_regression(n_samples=100, n_features=1, random_state=0, noise=14.0,\n",
        "                       bias=100.0)\n",
        "\n",
        "plt.plot(X, y, 'b.')\n",
        "plt.title('Linear Regression')\n",
        "plt.grid(True)\n",
        "plt.show()"
      ],
      "execution_count": 1,
      "outputs": [
        {
          "output_type": "display_data",
          "data": {
            "image/png": "[encoded data removed]",
            "text/plain": [
              "<Figure size 432x288 with 1 Axes>"
            ]
          },
          "metadata": {
            "tags": [],
            "needs_background": "light"
          }
        }
      ]
    }
  ]
}