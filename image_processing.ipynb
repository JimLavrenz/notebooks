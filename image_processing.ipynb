{
  "nbformat": 4,
  "nbformat_minor": 0,
  "metadata": {
    "kernelspec": {
      "display_name": "Python 3.9.1 64-bit",
      "name": "python391jvsc74a57bd0c7f37f8debd732c055154340e11cbb58ef022c9b70732b14cef199bcf8429ca3"
    },
    "language_info": {
      "codemirror_mode": {
        "name": "ipython",
        "version": 3
      },
      "file_extension": ".py",
      "mimetype": "text/x-python",
      "name": "python",
      "nbconvert_exporter": "python",
      "pygments_lexer": "ipython3",
      "version": "3.9.1"
    },
    "colab": {
      "name": "image_processing.ipynb",
      "provenance": [],
      "include_colab_link": true
    }
  },
  "cells": [
    {
      "cell_type": "markdown",
      "metadata": {
        "id": "view-in-github",
        "colab_type": "text"
      },
      "source": [
        "<a href=\"https://colab.research.google.com/github/JimLavrenz/notebooks/blob/main/image_processing.ipynb\" target=\"_parent\"><img src=\"https://colab.research.google.com/assets/colab-badge.svg\" alt=\"Open In Colab\"/></a>"
      ]
    },
    {
      "cell_type": "markdown",
      "metadata": {
        "id": "s31S9n0Vsdf0"
      },
      "source": [
        "# Naive compression compared to wavelet compression using simple orthonormal wavelets.\n",
        "\n",
        "Naive method of filter the Lena image which is 8 bit grayscaled using a simple hard cutoff of 128 to yeild a 8x compression but horrible lossy as we will show compared to wavelets.\n",
        "\n",
        "## Naive TH compared to Haar, DB4, and Meyer.\n"
      ]
    },
    {
      "cell_type": "code",
      "metadata": {
        "id": "blfJMHG2uiew",
        "colab": {
          "base_uri": "https://localhost:8080/"
        },
        "outputId": "dea00516-8a5c-4215-d4ac-0fc4797e2042"
      },
      "source": [
        "#from google.colab import drive\n",
        "#drive.mount('/content/gdrive')"
      ],
      "execution_count": null,
      "outputs": [
        {
          "output_type": "stream",
          "text": [
            "Mounted at /content/gdrive\n"
          ],
          "name": "stdout"
        }
      ]
    },
    {
      "cell_type": "code",
      "metadata": {
        "id": "CApZiJ4Xsdf6",
        "colab": {
          "base_uri": "https://localhost:8080/"
        },
        "outputId": "c12821be-2c76-4f08-a507-09c13e0a5b96"
      },
      "source": [
        "import numpy as np\n",
        "import matplotlib.pyplot as plt\n",
        "\n",
        "import copy as cp\n",
        "import pywt\n",
        "import pywt.data\n",
        "\n",
        "import scipy.io\n",
        "#!ls \"gdrive/MyDrive/Colab Notebooks\"\n",
        "mat=scipy.io.loadmat(\"gdrive/MyDrive/Colab Notebooks/lena512.mat\")"
      ],
      "execution_count": null,
      "outputs": [
        {
          "output_type": "stream",
          "text": [
            "barbara_gray.raw\tIps0H.jpg      lena512_bw.bmp\tlinear-regression.ipynb\n",
            "grad_descent.ipynb\tk-means.ipynb  lena512.mat\n",
            "image_processing.ipynb\tlena512.bmp    lena_color.tiff\n"
          ],
          "name": "stdout"
        }
      ]
    },
    {
      "cell_type": "markdown",
      "metadata": {
        "id": "4qfIHonAsdf8"
      },
      "source": [
        "![](https://github.com/JimLavrenz/notebooks/blob/main/lena512.bmp?raw=1)"
      ]
    },
    {
      "cell_type": "code",
      "metadata": {
        "id": "rTkmHzihsdf8",
        "colab": {
          "base_uri": "https://localhost:8080/"
        },
        "outputId": "93054e13-06a3-44fc-dc92-229a2aff5919"
      },
      "source": [
        "sorted(mat.keys())"
      ],
      "execution_count": null,
      "outputs": [
        {
          "output_type": "execute_result",
          "data": {
            "text/plain": [
              "['__globals__', '__header__', '__version__', 'lena512']"
            ]
          },
          "metadata": {
            "tags": []
          },
          "execution_count": 22
        }
      ]
    },
    {
      "cell_type": "code",
      "metadata": {
        "id": "pRARKL-3sdf9"
      },
      "source": [
        "lena512=mat['lena512']"
      ],
      "execution_count": null,
      "outputs": []
    },
    {
      "cell_type": "code",
      "metadata": {
        "id": "Ohodkw3ysdf-"
      },
      "source": [
        "lena512_binary=cp.deepcopy(lena512)"
      ],
      "execution_count": null,
      "outputs": []
    },
    {
      "cell_type": "code",
      "metadata": {
        "id": "HdMU2d1-sdf-"
      },
      "source": [
        "for i in range(512):\n",
        "    for j in range(512):\n",
        "        if lena512[i][j] < 128:\n",
        "            lena512_binary[i][j] = 0\n",
        "        else:\n",
        "            lena512_binary[i][j] = 255\n",
        "        "
      ],
      "execution_count": null,
      "outputs": []
    },
    {
      "cell_type": "code",
      "metadata": {
        "id": "xUCT6JWBsdf-"
      },
      "source": [
        "import matplotlib.pyplot\n",
        "matplotlib.pyplot.imsave('gdrive/MyDrive/Colab Notebooks/lena512_bw.bmp', lena512_binary, cmap='gray')"
      ],
      "execution_count": null,
      "outputs": []
    },
    {
      "cell_type": "markdown",
      "metadata": {
        "id": "o8eIQyKMsdf_"
      },
      "source": [
        "![](https://github.com/JimLavrenz/notebooks/blob/main/lena512_bw.bmp?raw=1)"
      ]
    },
    {
      "cell_type": "code",
      "metadata": {
        "id": "rPzZ-v5lsdf_"
      },
      "source": [
        ""
      ],
      "execution_count": null,
      "outputs": []
    }
  ]
}